{
 "cells": [
  {
   "cell_type": "code",
   "execution_count": 1,
   "id": "9bf04a3c",
   "metadata": {},
   "outputs": [
    {
     "name": "stderr",
     "output_type": "stream",
     "text": [
      "C:\\Users\\16148\\anaconda3\\lib\\site-packages\\torch\\nn\\modules\\loss.py:536: UserWarning: Using a target size (torch.Size([100, 1])) that is different to the input size (torch.Size([100, 100, 1])). This will likely lead to incorrect results due to broadcasting. Please ensure they have the same size.\n",
      "  return F.mse_loss(input, target, reduction=self.reduction)\n"
     ]
    },
    {
     "name": "stdout",
     "output_type": "stream",
     "text": [
      "Epoch 0: Loss=0.6838074922561646\n",
      "Epoch 10: Loss=0.4230712950229645\n",
      "Epoch 20: Loss=0.3906291425228119\n",
      "Epoch 30: Loss=0.22129711508750916\n",
      "Epoch 40: Loss=0.056498121470212936\n",
      "Epoch 50: Loss=0.028270481154322624\n",
      "Epoch 60: Loss=0.017607616260647774\n",
      "Epoch 70: Loss=0.013945206068456173\n",
      "Epoch 80: Loss=0.011611848138272762\n",
      "Epoch 90: Loss=0.011980178765952587\n",
      "Epoch 100: Loss=0.010546424426138401\n",
      "Epoch 110: Loss=0.009717670269310474\n",
      "Epoch 120: Loss=0.00926897767931223\n",
      "Epoch 130: Loss=0.007243345491588116\n",
      "Epoch 140: Loss=0.009189598262310028\n",
      "Epoch 150: Loss=0.007570123299956322\n",
      "Epoch 160: Loss=0.0064394730143249035\n",
      "Epoch 170: Loss=0.006287223659455776\n",
      "Epoch 180: Loss=0.007093263324350119\n",
      "Epoch 190: Loss=0.006618996616452932\n",
      "Epoch 200: Loss=0.005193495191633701\n",
      "Epoch 210: Loss=0.005298055242747068\n",
      "Epoch 220: Loss=0.004945158027112484\n",
      "Epoch 230: Loss=0.005653141997754574\n",
      "Epoch 240: Loss=0.005873916670680046\n"
     ]
    }
   ],
   "source": [
    "import torch\n",
    "import torch.nn as nn\n",
    "import math\n",
    "import matplotlib as plt\n",
    "import seaborn as sns\n",
    "# Define the Transformer model\n",
    "class Transformer(nn.Module):\n",
    "    def __init__(self, input_size, output_size, num_layers, hidden_size, num_heads, dropout):\n",
    "        super(Transformer, self).__init__()\n",
    "\n",
    "        self.embedding = nn.Linear(input_size, hidden_size)\n",
    "        self.pos_encoder = PositionalEncoding(hidden_size, dropout)\n",
    "        encoder_layer = nn.TransformerEncoderLayer(hidden_size, num_heads, hidden_size, dropout)\n",
    "        self.encoder = nn.TransformerEncoder(encoder_layer, num_layers)\n",
    "        self.decoder = nn.Linear(hidden_size, output_size)\n",
    "\n",
    "        self.init_weights()\n",
    "\n",
    "    def init_weights(self):\n",
    "        init_range = 0.1\n",
    "        self.embedding.weight.data.uniform_(-init_range, init_range)\n",
    "        self.decoder.bias.data.zero_()\n",
    "        self.decoder.weight.data.uniform_(-init_range, init_range)\n",
    "\n",
    "    def forward(self, input):\n",
    "        input = self.embedding(input)  # Embedding\n",
    "        input = self.pos_encoder(input)  # Positional encoding\n",
    "        output = self.encoder(input)  # Encoding\n",
    "        output = self.decoder(output)  # Linear layer\n",
    "        return output\n",
    "\n",
    "# Define the positional encoding module\n",
    "class PositionalEncoding(nn.Module):\n",
    "    def __init__(self, d_model, dropout=0.1, max_len=5000):\n",
    "        super(PositionalEncoding, self).__init__()\n",
    "        self.dropout = nn.Dropout(p=dropout)\n",
    "\n",
    "        pe = torch.zeros(max_len, d_model)\n",
    "        position = torch.arange(0, max_len, dtype=torch.float).unsqueeze(1)\n",
    "        div_term = torch.exp(torch.arange(0, d_model, 2).float() * (-math.log(10000.0) / d_model))\n",
    "        pe[:, 0::2] = torch.sin(position * div_term)\n",
    "        pe[:, 1::2] = torch.cos(position * div_term)\n",
    "        pe = pe.unsqueeze(0).transpose(0, 1)\n",
    "        self.register_buffer('pe', pe)\n",
    "\n",
    "    def forward(self, x):\n",
    "        x = x + self.pe[:x.size(0), :]\n",
    "        return self.dropout(x)\n",
    "\n",
    "# Generate training data (a sine wave)\n",
    "def generate_data(n, freq):\n",
    "    x = torch.arange(n, dtype=torch.float32)\n",
    "    y = torch.sin(x * freq)\n",
    "    return y.unsqueeze(1)\n",
    "\n",
    "# Train the model to replicate a sine wave\n",
    "input_size = 1\n",
    "output_size = 1\n",
    "num_layers = 4\n",
    "hidden_size = 32\n",
    "num_heads = 4\n",
    "dropout = 0.1\n",
    "lr = 0.001\n",
    "num_epochs = 250\n",
    "\n",
    "model = Transformer(input_size, output_size, num_layers, hidden_size, num_heads, dropout)\n",
    "optimizer = torch.optim.Adam(model.parameters(), lr=lr)\n",
    "criterion = nn.MSELoss()\n",
    "\n",
    "for epoch in range(num_epochs):\n",
    "    optimizer.zero_grad()\n",
    "    x = generate_data(100, 0.1)  # Generate a sine wave with frequency 0.1\n",
    "    y = generate_data(100, 0.1)\n",
    "    y_pred = model(x)\n",
    "    \n",
    "    loss = criterion(y_pred, y)\n",
    "    loss.backward()\n",
    "    optimizer.step()\n",
    "\n",
    "    if epoch % 10 == 0:\n",
    "        print(f\"Epoch {epoch}: Loss={loss.item()}\")\n",
    "\n",
    "# Generate a sine wave using the trained model\n",
    "x_test = generate_data(100, 0.05)  # Generate a sine wave with\n"
   ]
  },
  {
   "cell_type": "code",
   "execution_count": 2,
   "id": "8988d5f6",
   "metadata": {},
   "outputs": [],
   "source": [
    "import pandas as pd"
   ]
  },
  {
   "cell_type": "code",
   "execution_count": 3,
   "id": "93e0548b",
   "metadata": {},
   "outputs": [
    {
     "data": {
      "text/plain": [
       "(100, torch.Size([100, 100, 1]))"
      ]
     },
     "execution_count": 3,
     "metadata": {},
     "output_type": "execute_result"
    }
   ],
   "source": [
    "y_pred=model(x_test)\n",
    "len(y_pred), y_pred.shape"
   ]
  },
  {
   "cell_type": "code",
   "execution_count": 4,
   "id": "de4acddc",
   "metadata": {},
   "outputs": [
    {
     "data": {
      "text/plain": [
       "tensor([[-0.0243,  0.0429,  0.0920,  ..., -0.8925, -0.9366, -0.9296],\n",
       "        [-0.0901, -0.0021,  0.0974,  ..., -0.9443, -0.9942, -0.9634],\n",
       "        [-0.0743, -0.0543,  0.1071,  ..., -0.9450, -1.0047, -0.9709],\n",
       "        ...,\n",
       "        [-0.0371,  0.1050,  0.0817,  ..., -0.8415, -0.9066, -0.9250],\n",
       "        [-0.0155,  0.1188,  0.0830,  ..., -0.7928, -0.8797, -0.9072],\n",
       "        [-0.0539, -0.0301,  0.0520,  ..., -0.9485, -0.8934, -0.9675]],\n",
       "       grad_fn=<SqueezeBackward0>)"
      ]
     },
     "execution_count": 4,
     "metadata": {},
     "output_type": "execute_result"
    }
   ],
   "source": [
    "y_pred.squeeze()"
   ]
  },
  {
   "cell_type": "code",
   "execution_count": 5,
   "id": "a7ea2fa6",
   "metadata": {},
   "outputs": [
    {
     "data": {
      "text/plain": [
       "tensor([[-0.0243],\n",
       "        [ 0.0429],\n",
       "        [ 0.0920],\n",
       "        [ 0.0129],\n",
       "        [ 0.2941],\n",
       "        [ 0.3442],\n",
       "        [ 0.1426],\n",
       "        [ 0.3626],\n",
       "        [ 0.3110],\n",
       "        [ 0.4397],\n",
       "        [ 0.4678],\n",
       "        [ 0.4258],\n",
       "        [ 0.7093],\n",
       "        [ 0.6657],\n",
       "        [ 0.5668],\n",
       "        [ 0.6643],\n",
       "        [ 0.7563],\n",
       "        [ 0.7589],\n",
       "        [ 0.8825],\n",
       "        [ 0.8661],\n",
       "        [ 0.8087],\n",
       "        [ 0.8285],\n",
       "        [ 0.7771],\n",
       "        [ 0.8936],\n",
       "        [ 0.9359],\n",
       "        [ 0.9314],\n",
       "        [ 0.9545],\n",
       "        [ 0.8892],\n",
       "        [ 0.8975],\n",
       "        [ 0.9499],\n",
       "        [ 0.9845],\n",
       "        [ 0.9841],\n",
       "        [ 0.9062],\n",
       "        [ 0.8924],\n",
       "        [ 1.0020],\n",
       "        [ 0.9057],\n",
       "        [ 0.9104],\n",
       "        [ 0.9745],\n",
       "        [ 0.9411],\n",
       "        [ 0.8825],\n",
       "        [ 0.9160],\n",
       "        [ 0.8069],\n",
       "        [ 0.7261],\n",
       "        [ 0.8735],\n",
       "        [ 0.7635],\n",
       "        [ 0.8158],\n",
       "        [ 0.8386],\n",
       "        [ 0.7634],\n",
       "        [ 0.7988],\n",
       "        [ 0.7499],\n",
       "        [ 0.7231],\n",
       "        [ 0.4881],\n",
       "        [ 0.4297],\n",
       "        [ 0.3901],\n",
       "        [ 0.3814],\n",
       "        [ 0.2444],\n",
       "        [ 0.2171],\n",
       "        [ 0.2734],\n",
       "        [ 0.3416],\n",
       "        [ 0.3222],\n",
       "        [ 0.0338],\n",
       "        [ 0.0299],\n",
       "        [ 0.1378],\n",
       "        [ 0.0118],\n",
       "        [-0.0107],\n",
       "        [-0.1090],\n",
       "        [-0.1679],\n",
       "        [-0.3079],\n",
       "        [-0.1791],\n",
       "        [-0.2994],\n",
       "        [-0.3076],\n",
       "        [-0.4399],\n",
       "        [-0.5013],\n",
       "        [-0.4188],\n",
       "        [-0.5202],\n",
       "        [-0.6075],\n",
       "        [-0.7028],\n",
       "        [-0.7888],\n",
       "        [-0.6435],\n",
       "        [-0.8127],\n",
       "        [-0.7831],\n",
       "        [-0.8203],\n",
       "        [-0.8731],\n",
       "        [-0.8691],\n",
       "        [-0.8979],\n",
       "        [-0.9001],\n",
       "        [-0.9241],\n",
       "        [-0.9048],\n",
       "        [-0.9406],\n",
       "        [-0.9675],\n",
       "        [-0.9190],\n",
       "        [-0.9253],\n",
       "        [-0.9465],\n",
       "        [-0.9542],\n",
       "        [-0.9940],\n",
       "        [-0.9929],\n",
       "        [-1.0398],\n",
       "        [-0.8925],\n",
       "        [-0.9366],\n",
       "        [-0.9296]], grad_fn=<SelectBackward0>)"
      ]
     },
     "execution_count": 5,
     "metadata": {},
     "output_type": "execute_result"
    }
   ],
   "source": [
    "y_pred[0]"
   ]
  },
  {
   "cell_type": "code",
   "execution_count": 6,
   "id": "dc5f367e",
   "metadata": {},
   "outputs": [
    {
     "data": {
      "text/plain": [
       "100"
      ]
     },
     "execution_count": 6,
     "metadata": {},
     "output_type": "execute_result"
    }
   ],
   "source": [
    "y_pred_numpy = y_pred[0].detach().numpy()\n",
    "y_pred_numpy = y_pred_numpy.reshape(-1, y_pred_numpy.shape[-1])\n",
    "y_pred_df = pd.DataFrame(y_pred_numpy)\n",
    "len(y_pred_df)"
   ]
  },
  {
   "cell_type": "code",
   "execution_count": 7,
   "id": "9c09b79c",
   "metadata": {},
   "outputs": [],
   "source": [
    "x_test = pd.DataFrame(x_test)\n",
    "# y_pred = pd.DataFrame(y_pred)"
   ]
  },
  {
   "cell_type": "code",
   "execution_count": 8,
   "id": "26e050e8",
   "metadata": {},
   "outputs": [
    {
     "data": {
      "text/plain": [
       "<AxesSubplot:ylabel='0'>"
      ]
     },
     "execution_count": 8,
     "metadata": {},
     "output_type": "execute_result"
    },
    {
     "data": {
      "image/png": "[encoded data removed]",
      "text/plain": [
       "<Figure size 1500x600 with 1 Axes>"
      ]
     },
     "metadata": {},
     "output_type": "display_data"
    }
   ],
   "source": [
    "import matplotlib.pyplot as plt\n",
    "import seaborn as sns\n",
    "fig, axes = plt.subplots(figsize=(15, 6))\n",
    "sns.scatterplot(data=x_test,x=x_test.index, y=x_test[0], color='g')\n",
    "sns.scatterplot(data=y_pred_df,x=y_pred_df.index, y=y_pred_df[0], color='r')"
   ]
  }
 ],
 "metadata": {
  "kernelspec": {
   "display_name": "Python 3 (ipykernel)",
   "language": "python",
   "name": "python3"
  },
  "language_info": {
   "codemirror_mode": {
    "name": "ipython",
    "version": 3
   },
   "file_extension": ".py",
   "mimetype": "text/x-python",
   "name": "python",
   "nbconvert_exporter": "python",
   "pygments_lexer": "ipython3",
   "version": "3.9.13"
  }
 },
 "nbformat": 4,
 "nbformat_minor": 5
}
