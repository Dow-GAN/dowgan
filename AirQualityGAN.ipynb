{
 "cells": [
  {
   "cell_type": "code",
   "execution_count": 1,
   "id": "c0a07cdc",
   "metadata": {},
   "outputs": [],
   "source": [
    "import torch\n",
    "from torch import nn\n",
    "import math\n",
    "import matplotlib.pyplot as plt\n",
    "import pandas as pd\n",
    "import numpy as np"
   ]
  },
  {
   "cell_type": "markdown",
   "id": "34887d7c",
   "metadata": {},
   "source": [
    "Import Dataframe"
   ]
  },
  {
   "cell_type": "code",
   "execution_count": 2,
   "id": "a8d0838c",
   "metadata": {},
   "outputs": [],
   "source": [
    "df=pd.read_csv('AirQualityUCI.csv',sep=';')\n",
    "df.drop(df[(df['PT08.S1(CO)'] == -200)].index, inplace=True)"
   ]
  },
  {
   "cell_type": "code",
   "execution_count": 3,
   "id": "193fa86f",
   "metadata": {},
   "outputs": [],
   "source": [
    "torch.manual_seed(111)\n",
    "\n",
    "num=1024\n",
    "\n",
    "col1 = df['PT08.S1(CO)'].values\n",
    "col2 = df['NMHC(GT)'].values\n",
    "\n",
    "array1 = np.zeros(num)\n",
    "array2 = np.zeros(num)\n",
    "for i in range(num):\n",
    "    array1[i] = col1[i]\n",
    "    array2[i] = col2[i]\n",
    "\n",
    "train_data_length = num\n",
    "train_data = torch.zeros((train_data_length, 2))\n",
    "train_data[:, 0] = torch.from_numpy(array1)\n",
    "train_data[:, 1] = torch.from_numpy(array2)\n",
    "train_labels = torch.zeros(train_data_length)\n",
    "train_set = [\n",
    "    (train_data[i], train_labels[i]) for i in range(train_data_length)\n",
    "]\n",
    "# Define batch size for the data loader\n",
    "batch_size = 32\n",
    "train_loader = torch.utils.data.DataLoader(train_set, batch_size=batch_size, shuffle=True)"
   ]
  },
  {
   "cell_type": "markdown",
   "id": "91d3c09b",
   "metadata": {},
   "source": [
    "Discriminator and Generator"
   ]
  },
  {
   "cell_type": "code",
   "execution_count": 4,
   "id": "e6a84aa5",
   "metadata": {},
   "outputs": [],
   "source": [
    "class Discriminator(nn.Module):\n",
    "    def __init__(self):\n",
    "        super().__init__()\n",
    "        self.model = nn.Sequential(\n",
    "            nn.Linear(2, 256),\n",
    "            nn.ReLU(),\n",
    "            nn.Dropout(0.3),\n",
    "            nn.Linear(256, 128),\n",
    "            nn.ReLU(),\n",
    "            nn.Dropout(0.3),\n",
    "            nn.Linear(128, 64),\n",
    "            nn.ReLU(),\n",
    "            nn.Dropout(0.3),\n",
    "            nn.Linear(64, 1),\n",
    "            nn.Sigmoid(),\n",
    "        )\n",
    "\n",
    "    def forward(self, x):\n",
    "        output = self.model(x)\n",
    "        return output\n",
    "    \n",
    "discriminator = Discriminator()"
   ]
  },
  {
   "cell_type": "code",
   "execution_count": 5,
   "id": "023a8678",
   "metadata": {},
   "outputs": [],
   "source": [
    "class Generator(nn.Module):\n",
    "    def __init__(self):\n",
    "        super().__init__()\n",
    "        self.model = nn.Sequential(\n",
    "            nn.Linear(2, 16),\n",
    "            nn.ReLU(),\n",
    "            nn.Linear(16, 32),\n",
    "            nn.ReLU(),\n",
    "            nn.Linear(32, 2),\n",
    "        )\n",
    "\n",
    "    def forward(self, x):\n",
    "        output = self.model(x)\n",
    "        return output\n",
    "\n",
    "generator = Generator()"
   ]
  },
  {
   "cell_type": "code",
   "execution_count": 6,
   "id": "b58b94bc",
   "metadata": {},
   "outputs": [],
   "source": [
    "# Define learning rate, number of epoch and type of loss function\n",
    "lr = 0.001\n",
    "num_epochs = 300\n",
    "loss_function = nn.BCELoss()\n",
    "\n",
    "optimizer_discriminator = torch.optim.Adam(discriminator.parameters(), lr=lr)\n",
    "optimizer_generator = torch.optim.Adam(generator.parameters(), lr=lr)"
   ]
  },
  {
   "cell_type": "code",
   "execution_count": 7,
   "id": "46c98c6e",
   "metadata": {},
   "outputs": [
    {
     "name": "stdout",
     "output_type": "stream",
     "text": [
      "Epoch: 0 Loss D.: 0.11712616682052612\n",
      "Epoch: 0 Loss G.: 1.683789610862732\n",
      "Epoch: 10 Loss D.: 0.21443665027618408\n",
      "Epoch: 10 Loss G.: 1.8583934307098389\n",
      "Epoch: 20 Loss D.: 0.280499130487442\n",
      "Epoch: 20 Loss G.: 1.1008493900299072\n",
      "Epoch: 30 Loss D.: 0.21810802817344666\n",
      "Epoch: 30 Loss G.: 1.1805723905563354\n",
      "Epoch: 40 Loss D.: 0.20646286010742188\n",
      "Epoch: 40 Loss G.: 1.1448601484298706\n",
      "Epoch: 50 Loss D.: 0.236850768327713\n",
      "Epoch: 50 Loss G.: 1.2456995248794556\n",
      "Epoch: 60 Loss D.: 0.3000245690345764\n",
      "Epoch: 60 Loss G.: 1.352338433265686\n",
      "Epoch: 70 Loss D.: 0.2902470827102661\n",
      "Epoch: 70 Loss G.: 1.518498182296753\n",
      "Epoch: 80 Loss D.: 0.4215327203273773\n",
      "Epoch: 80 Loss G.: 1.4509748220443726\n",
      "Epoch: 90 Loss D.: 0.24152198433876038\n",
      "Epoch: 90 Loss G.: 1.7670005559921265\n",
      "Epoch: 100 Loss D.: 0.4738338589668274\n",
      "Epoch: 100 Loss G.: 1.4525707960128784\n",
      "Epoch: 110 Loss D.: 0.5564954876899719\n",
      "Epoch: 110 Loss G.: 1.305614709854126\n",
      "Epoch: 120 Loss D.: 0.5004066228866577\n",
      "Epoch: 120 Loss G.: 1.0563369989395142\n",
      "Epoch: 130 Loss D.: 0.5822238326072693\n",
      "Epoch: 130 Loss G.: 1.1402308940887451\n",
      "Epoch: 140 Loss D.: 0.539780855178833\n",
      "Epoch: 140 Loss G.: 1.0815093517303467\n",
      "Epoch: 150 Loss D.: 0.6052411198616028\n",
      "Epoch: 150 Loss G.: 1.0581395626068115\n",
      "Epoch: 160 Loss D.: 0.5933995246887207\n",
      "Epoch: 160 Loss G.: 0.9170625805854797\n",
      "Epoch: 170 Loss D.: 0.5400426983833313\n",
      "Epoch: 170 Loss G.: 0.9485199451446533\n",
      "Epoch: 180 Loss D.: 0.5305097699165344\n",
      "Epoch: 180 Loss G.: 0.8915085196495056\n",
      "Epoch: 190 Loss D.: 0.5399428606033325\n",
      "Epoch: 190 Loss G.: 0.9341551661491394\n",
      "Epoch: 200 Loss D.: 0.5381249785423279\n",
      "Epoch: 200 Loss G.: 0.8742519021034241\n",
      "Epoch: 210 Loss D.: 0.5376799702644348\n",
      "Epoch: 210 Loss G.: 0.9340025782585144\n",
      "Epoch: 220 Loss D.: 0.6602870225906372\n",
      "Epoch: 220 Loss G.: 0.8942975401878357\n",
      "Epoch: 230 Loss D.: 0.6806750297546387\n",
      "Epoch: 230 Loss G.: 0.8414881229400635\n",
      "Epoch: 240 Loss D.: 0.6703846454620361\n",
      "Epoch: 240 Loss G.: 0.6860234141349792\n",
      "Epoch: 250 Loss D.: 0.6742919683456421\n",
      "Epoch: 250 Loss G.: 0.6721676588058472\n",
      "Epoch: 260 Loss D.: 0.6880269050598145\n",
      "Epoch: 260 Loss G.: 0.6976111531257629\n",
      "Epoch: 270 Loss D.: 0.6962705254554749\n",
      "Epoch: 270 Loss G.: 0.7033761739730835\n",
      "Epoch: 280 Loss D.: 0.6974906921386719\n",
      "Epoch: 280 Loss G.: 0.706653356552124\n",
      "Epoch: 290 Loss D.: 0.6884143352508545\n",
      "Epoch: 290 Loss G.: 0.6973357200622559\n"
     ]
    }
   ],
   "source": [
    "for epoch in range(num_epochs):\n",
    "\n",
    "    for n, (real_samples, _) in enumerate(train_loader):\n",
    "\n",
    "        # Data for training the discriminator\n",
    "\n",
    "        real_samples_labels = torch.ones((batch_size, 1))\n",
    "\n",
    "        latent_space_samples = torch.randn((batch_size, 2))\n",
    "\n",
    "        generated_samples = generator(latent_space_samples)\n",
    "\n",
    "        generated_samples_labels = torch.zeros((batch_size, 1))\n",
    "\n",
    "        all_samples = torch.cat((real_samples, generated_samples))\n",
    "\n",
    "        all_samples_labels = torch.cat(\n",
    "\n",
    "            (real_samples_labels, generated_samples_labels)\n",
    "\n",
    "        )\n",
    "\n",
    "\n",
    "        # Training the discriminator\n",
    "\n",
    "        discriminator.zero_grad()\n",
    "\n",
    "        output_discriminator = discriminator(all_samples)\n",
    "\n",
    "        loss_discriminator = loss_function(\n",
    "\n",
    "            output_discriminator, all_samples_labels)\n",
    "\n",
    "        loss_discriminator.backward()\n",
    "\n",
    "        optimizer_discriminator.step()\n",
    "\n",
    "\n",
    "        # Data for training the generator\n",
    "\n",
    "        latent_space_samples = torch.randn((batch_size, 2))\n",
    "\n",
    "\n",
    "        # Training the generator\n",
    "\n",
    "        generator.zero_grad()\n",
    "\n",
    "        generated_samples = generator(latent_space_samples)\n",
    "\n",
    "        output_discriminator_generated = discriminator(generated_samples)\n",
    "\n",
    "        loss_generator = loss_function(\n",
    "\n",
    "            output_discriminator_generated, real_samples_labels\n",
    "\n",
    "        )\n",
    "\n",
    "        loss_generator.backward()\n",
    "\n",
    "        optimizer_generator.step()\n",
    "\n",
    "\n",
    "        # Show loss\n",
    "\n",
    "        if epoch % 10 == 0 and n == batch_size - 1:\n",
    "\n",
    "            print(f\"Epoch: {epoch} Loss D.: {loss_discriminator}\")\n",
    "\n",
    "            print(f\"Epoch: {epoch} Loss G.: {loss_generator}\")"
   ]
  },
  {
   "cell_type": "code",
   "execution_count": 8,
   "id": "243d844e",
   "metadata": {},
   "outputs": [
    {
     "data": {
      "text/plain": [
       "[<matplotlib.lines.Line2D at 0x29085d6bcd0>]"
      ]
     },
     "execution_count": 8,
     "metadata": {},
     "output_type": "execute_result"
    },
    {
     "data": {
      "image/png": "[encoded data removed]",
      "text/plain": [
       "<Figure size 640x480 with 1 Axes>"
      ]
     },
     "metadata": {},
     "output_type": "display_data"
    }
   ],
   "source": [
    "latent_space_samples = torch.randn(100, 2)\n",
    "generated_samples = generator(latent_space_samples)\n",
    "generated_samples = generated_samples.detach()\n",
    "plt.plot(generated_samples[:, 0], generated_samples[:, 1], \".\")"
   ]
  }
 ],
 "metadata": {
  "kernelspec": {
   "display_name": "Python 3 (ipykernel)",
   "language": "python",
   "name": "python3"
  },
  "language_info": {
   "codemirror_mode": {
    "name": "ipython",
    "version": 3
   },
   "file_extension": ".py",
   "mimetype": "text/x-python",
   "name": "python",
   "nbconvert_exporter": "python",
   "pygments_lexer": "ipython3",
   "version": "3.9.13"
  }
 },
 "nbformat": 4,
 "nbformat_minor": 5
}
