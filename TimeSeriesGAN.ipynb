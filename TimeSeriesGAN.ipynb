{
 "cells": [
  {
   "cell_type": "code",
   "execution_count": 1,
   "id": "c0a07cdc",
   "metadata": {},
   "outputs": [],
   "source": [
    "import torch\n",
    "from torch import nn\n",
    "import math\n",
    "import matplotlib.pyplot as plt\n",
    "import pandas as pd\n",
    "import numpy as np\n",
    "import seaborn as sns"
   ]
  },
  {
   "cell_type": "code",
   "execution_count": 2,
   "id": "a8d0838c",
   "metadata": {},
   "outputs": [
    {
     "data": {
      "text/html": [
       "<div>\n",
       "<style scoped>\n",
       "    .dataframe tbody tr th:only-of-type {\n",
       "        vertical-align: middle;\n",
       "    }\n",
       "\n",
       "    .dataframe tbody tr th {\n",
       "        vertical-align: top;\n",
       "    }\n",
       "\n",
       "    .dataframe thead th {\n",
       "        text-align: right;\n",
       "    }\n",
       "</style>\n",
       "<table border=\"1\" class=\"dataframe\">\n",
       "  <thead>\n",
       "    <tr style=\"text-align: right;\">\n",
       "      <th></th>\n",
       "      <th>time</th>\n",
       "      <th>conv</th>\n",
       "    </tr>\n",
       "  </thead>\n",
       "  <tbody>\n",
       "    <tr>\n",
       "      <th>0</th>\n",
       "      <td>0</td>\n",
       "      <td>0.000000</td>\n",
       "    </tr>\n",
       "    <tr>\n",
       "      <th>1</th>\n",
       "      <td>5</td>\n",
       "      <td>3.289106</td>\n",
       "    </tr>\n",
       "    <tr>\n",
       "      <th>2</th>\n",
       "      <td>10</td>\n",
       "      <td>6.685466</td>\n",
       "    </tr>\n",
       "    <tr>\n",
       "      <th>3</th>\n",
       "      <td>15</td>\n",
       "      <td>9.974572</td>\n",
       "    </tr>\n",
       "    <tr>\n",
       "      <th>4</th>\n",
       "      <td>20</td>\n",
       "      <td>12.655909</td>\n",
       "    </tr>\n",
       "  </tbody>\n",
       "</table>\n",
       "</div>"
      ],
      "text/plain": [
       "   time       conv\n",
       "0     0   0.000000\n",
       "1     5   3.289106\n",
       "2    10   6.685466\n",
       "3    15   9.974572\n",
       "4    20  12.655909"
      ]
     },
     "execution_count": 2,
     "metadata": {},
     "output_type": "execute_result"
    }
   ],
   "source": [
    "# Import Data Frame and view data\n",
    "df = pd.read_csv('time_data.csv',sep=',')\n",
    "df.head()"
   ]
  },
  {
   "cell_type": "code",
   "execution_count": 3,
   "id": "193fa86f",
   "metadata": {},
   "outputs": [],
   "source": [
    "# Set random state\n",
    "torch.manual_seed(111)\n",
    "# Select # of data points from data set to train GAN\n",
    "num_data = 24\n",
    "# Specify dimensionality of dataframe\n",
    "df_dim = 2\n",
    "# learning rate\n",
    "lr = 0.002\n",
    "# number of epoch\n",
    "num_epochs = 1100\n",
    "# Discriminator dropout\n",
    "drop_out=0.3\n",
    "# Define batch size for the data loader\n",
    "batch_size = 12\n",
    "\n",
    "# This part turns the pandas dataframe columns into tensors for the GAN\n",
    "col1 = df['time'].values\n",
    "col2 = df['conv'].values\n",
    "\n",
    "array1 = np.zeros(num_data)\n",
    "array2 = np.zeros(num_data)\n",
    "for i in range(num_data):\n",
    "    array1[i] = col1[i]\n",
    "    array2[i] = col2[i]\n",
    "\n",
    "train_data_length = num_data\n",
    "train_data = torch.zeros((num_data, df_dim))\n",
    "train_data[:, 0] = torch.from_numpy(array1)\n",
    "train_data[:, 1] = torch.from_numpy(array2)\n",
    "train_labels = torch.zeros(num_data)\n",
    "train_set = [(train_data[i], train_labels[i]) for i in range(num_data)]\n",
    "\n",
    "train_loader = torch.utils.data.DataLoader(train_set, batch_size=batch_size, shuffle=True)"
   ]
  },
  {
   "cell_type": "markdown",
   "id": "91d3c09b",
   "metadata": {},
   "source": [
    "Discriminator and Generator"
   ]
  },
  {
   "cell_type": "code",
   "execution_count": 4,
   "id": "e6a84aa5",
   "metadata": {},
   "outputs": [],
   "source": [
    "class Discriminator(nn.Module):\n",
    "    # Classifies data as real or synthetic, used to train generator\n",
    "    def __init__(self):\n",
    "        super().__init__()\n",
    "        self.model = nn.Sequential(\n",
    "            nn.Linear(df_dim, (batch_size*8)),\n",
    "            nn.ReLU(),\n",
    "            nn.Dropout(drop_out),\n",
    "            nn.Linear((batch_size*8), (batch_size*4)),\n",
    "            nn.ReLU(),\n",
    "            nn.Dropout(drop_out),\n",
    "            nn.Linear((batch_size*4), (batch_size*2)),\n",
    "            nn.ReLU(),\n",
    "            nn.Dropout(drop_out),\n",
    "            nn.Linear((batch_size*2), 1),\n",
    "            nn.Sigmoid(),\n",
    "        )\n",
    "\n",
    "    def forward(self, x):\n",
    "        output = self.model(x)\n",
    "        return output\n",
    "    \n",
    "discriminator = Discriminator()"
   ]
  },
  {
   "cell_type": "code",
   "execution_count": 5,
   "id": "023a8678",
   "metadata": {},
   "outputs": [],
   "source": [
    "class Generator(nn.Module):\n",
    "    # Generates synthetic data\n",
    "    def __init__(self):\n",
    "        super().__init__()\n",
    "        self.model = nn.Sequential(\n",
    "            nn.Linear(df_dim, (batch_size)),\n",
    "            nn.ReLU(),\n",
    "            nn.Linear((batch_size), (batch_size*2)),\n",
    "            nn.ReLU(),\n",
    "            nn.Linear((batch_size*2), df_dim),\n",
    "        )\n",
    "\n",
    "    def forward(self, x):\n",
    "        output = self.model(x)\n",
    "        return output\n",
    "\n",
    "generator = Generator()"
   ]
  },
  {
   "cell_type": "code",
   "execution_count": 6,
   "id": "b58b94bc",
   "metadata": {},
   "outputs": [],
   "source": [
    "# loss function\n",
    "loss_function = nn.BCELoss()\n",
    "# Optimizer\n",
    "optimizer_discriminator = torch.optim.Adam(discriminator.parameters(), lr=lr)\n",
    "optimizer_generator = torch.optim.Adam(generator.parameters(), lr=lr)"
   ]
  },
  {
   "cell_type": "code",
   "execution_count": 7,
   "id": "46c98c6e",
   "metadata": {},
   "outputs": [],
   "source": [
    "# This is where the generator and discrimator are trained\n",
    "for epoch in range(num_epochs):\n",
    "\n",
    "    for n, (real_samples, _) in enumerate(train_loader):\n",
    "\n",
    "        # Data for training the discriminator\n",
    "        real_samples_labels = torch.ones((batch_size, 1))\n",
    "        latent_space_samples = torch.randn((batch_size, df_dim))\n",
    "        generated_samples = generator(latent_space_samples)\n",
    "        generated_samples_labels = torch.zeros((batch_size, 1))\n",
    "        all_samples = torch.cat((real_samples, generated_samples))\n",
    "        all_samples_labels = torch.cat((real_samples_labels, generated_samples_labels))\n",
    "\n",
    "        # Training the discriminator\n",
    "        discriminator.zero_grad()\n",
    "        output_discriminator = discriminator(all_samples)\n",
    "        loss_discriminator = loss_function(output_discriminator, all_samples_labels)\n",
    "        loss_discriminator.backward()\n",
    "        optimizer_discriminator.step()\n",
    "\n",
    "        # Data for training the generator\n",
    "        latent_space_samples = torch.randn((batch_size, df_dim))\n",
    "\n",
    "        # Training the generator\n",
    "        generator.zero_grad()\n",
    "        generated_samples = generator(latent_space_samples)\n",
    "        output_discriminator_generated = discriminator(generated_samples)\n",
    "        loss_generator = loss_function(output_discriminator_generated, real_samples_labels)\n",
    "        loss_generator.backward()\n",
    "        optimizer_generator.step()\n",
    "        # Show loss\n",
    "#         if epoch % 10 == 0 and n == batch_size - 1:\n",
    "#             print(f\"Epoch: {epoch} Loss D.: {loss_discriminator}\")\n",
    "#             print(f\"Epoch: {epoch} Loss G.: {loss_generator}\")"
   ]
  },
  {
   "cell_type": "code",
   "execution_count": 8,
   "id": "243d844e",
   "metadata": {},
   "outputs": [],
   "source": [
    "# After training the Gen, generates data as tensors\n",
    "latent_space_samples = torch.randn((num_data), df_dim)\n",
    "generated_samples = generator(latent_space_samples)\n",
    "generated_samples = generated_samples.detach()"
   ]
  },
  {
   "cell_type": "code",
   "execution_count": 9,
   "id": "f3f1a710",
   "metadata": {},
   "outputs": [
    {
     "name": "stderr",
     "output_type": "stream",
     "text": [
      "/tmp/ipykernel_10166/1632469481.py:3: FutureWarning: DataFrame.set_axis 'inplace' keyword is deprecated and will be removed in a future version. Use `obj = obj.set_axis(..., copy=False)` instead\n",
      "  df_gen = df_gen.set_axis(['time','conv'], axis=1, inplace=False)\n"
     ]
    }
   ],
   "source": [
    "# Takes the generated data and turns it into a pandas DataFrame\n",
    "df_gen=pd.DataFrame(generated_samples)\n",
    "df_gen = df_gen.set_axis(['time','conv'], axis=1, inplace=False)\n"
   ]
  },
  {
   "cell_type": "code",
   "execution_count": 10,
   "id": "03738b5e",
   "metadata": {},
   "outputs": [
    {
     "data": {
      "text/plain": [
       "(0.0, 60.0)"
      ]
     },
     "execution_count": 10,
     "metadata": {},
     "output_type": "execute_result"
    },
    {
     "data": {
      "image/png": "[encoded data removed]",
      "text/plain": [
       "<Figure size 1500x600 with 3 Axes>"
      ]
     },
     "metadata": {},
     "output_type": "display_data"
    }
   ],
   "source": [
    "# Plotting Real vs Generated data\n",
    "fig, axes = plt.subplots(1, 3, figsize=(15, 6))\n",
    "\n",
    "axes[2].set_title('Real vs Generated Data')\n",
    "sns.scatterplot(ax=axes[0], data=df, x='time', y='conv')\n",
    "axes[0].set_title('Real Data')\n",
    "axes[0].set_xlim(0, 120)\n",
    "axes[0].set_ylim(0, 60)\n",
    "sns.scatterplot(ax=axes[1], data=df_gen, x='time', y='conv', color='g')\n",
    "axes[1].set_title('Generated Data')\n",
    "axes[1].set_ylim(0, 60)\n",
    "axes[1].set_xlim(0, 120)\n",
    "sns.scatterplot(ax=axes[2], data=df, x='time', y='conv', label='Real')\n",
    "sns.scatterplot(ax=axes[2], data=df_gen, x='time', y='conv', color='g', label= 'Generated')\n",
    "axes[2].set_title('Real vs Generated Data')\n",
    "axes[2].set_xlim(0, 120)\n",
    "axes[2].set_ylim(0, 60)"
   ]
  },
  {
   "cell_type": "code",
   "execution_count": 11,
   "id": "fd21203e",
   "metadata": {},
   "outputs": [
    {
     "name": "stdout",
     "output_type": "stream",
     "text": [
      "Current Model Parameters:\n",
      "Size of dataset: 24\n",
      "Number of epochs: 1100\n",
      "Learning Rate: 0.002\n",
      "Discriminator dropout: 0.3\n",
      "Batch Size: 12\n"
     ]
    }
   ],
   "source": [
    "print('Current Model Parameters:')\n",
    "print('Size of dataset:', num_data)\n",
    "print('Number of epochs:', num_epochs)\n",
    "print('Learning Rate:', lr)\n",
    "print('Discriminator dropout:', drop_out)\n",
    "print('Batch Size:', batch_size)"
   ]
  }
 ],
 "metadata": {
  "kernelspec": {
   "display_name": "Python 3 (ipykernel)",
   "language": "python",
   "name": "python3"
  },
  "language_info": {
   "codemirror_mode": {
    "name": "ipython",
    "version": 3
   },
   "file_extension": ".py",
   "mimetype": "text/x-python",
   "name": "python",
   "nbconvert_exporter": "python",
   "pygments_lexer": "ipython3",
   "version": "3.10.8"
  }
 },
 "nbformat": 4,
 "nbformat_minor": 5
}
