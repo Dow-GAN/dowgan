{
 "cells": [
  {
   "cell_type": "markdown",
   "id": "fa28abb8",
   "metadata": {},
   "source": [
    "You might have to install `pytorch`, I recommend googling as I had to run a pretty complex code on the terminal.\n",
    "The following code are from: https://realpython.com/generative-adversarial-networks/"
   ]
  },
  {
   "cell_type": "code",
   "execution_count": 1,
   "id": "eac4351a",
   "metadata": {},
   "outputs": [],
   "source": [
    "import torch\n",
    "from torch import nn\n",
    "import math\n",
    "import matplotlib.pyplot as plt"
   ]
  },
  {
   "cell_type": "markdown",
   "id": "4cd83801",
   "metadata": {},
   "source": [
    "Just setting a random state."
   ]
  },
  {
   "cell_type": "code",
   "execution_count": 2,
   "id": "7dc1c963",
   "metadata": {
    "scrolled": true
   },
   "outputs": [
    {
     "data": {
      "text/plain": [
       "<torch._C.Generator at 0x7fe1a02acab0>"
      ]
     },
     "execution_count": 2,
     "metadata": {},
     "output_type": "execute_result"
    }
   ],
   "source": [
    "torch.manual_seed(111)"
   ]
  },
  {
   "cell_type": "markdown",
   "id": "3e5cf0e6",
   "metadata": {},
   "source": [
    "Making some data points, results should be a sine wave\n",
    "\n",
    "I thinking this is where we substitute in our time series data where x axis would be time and y axis is what ever value we're trying to generate"
   ]
  },
  {
   "cell_type": "code",
   "execution_count": 3,
   "id": "18d45db4",
   "metadata": {},
   "outputs": [],
   "source": [
    "train_data_length = 1024\n",
    "train_data = torch.zeros((train_data_length, 2))\n",
    "train_data[:, 0] = 2 * math.pi * torch.rand(train_data_length)\n",
    "train_data[:, 1] = torch.sin(train_data[:, 0])\n",
    "train_labels = torch.zeros(train_data_length)\n",
    "train_set = [\n",
    "    (train_data[i], train_labels[i]) for i in range(train_data_length)\n",
    "]"
   ]
  },
  {
   "cell_type": "code",
   "execution_count": 4,
   "id": "5b01353b",
   "metadata": {
    "scrolled": false
   },
   "outputs": [
    {
     "data": {
      "text/plain": [
       "[<matplotlib.lines.Line2D at 0x7fe0e4804040>]"
      ]
     },
     "execution_count": 4,
     "metadata": {},
     "output_type": "execute_result"
    },
    {
     "data": {
      "image/png": "[encoded data removed]",
      "text/plain": [
       "<Figure size 640x480 with 1 Axes>"
      ]
     },
     "metadata": {},
     "output_type": "display_data"
    }
   ],
   "source": [
    "plt.plot(train_data[:, 0], train_data[:, 1], \".\")"
   ]
  },
  {
   "cell_type": "markdown",
   "id": "fde051bf",
   "metadata": {},
   "source": [
    "Shuffles the data from `train_set` and return batches of 32 samples that we use to train the neural network"
   ]
  },
  {
   "cell_type": "code",
   "execution_count": 5,
   "id": "c23693ac",
   "metadata": {},
   "outputs": [],
   "source": [
    "batch_size = 32\n",
    "train_loader = torch.utils.data.DataLoader(\n",
    "    train_set, batch_size=batch_size, shuffle=True\n",
    ")"
   ]
  },
  {
   "cell_type": "markdown",
   "id": "6d831062",
   "metadata": {},
   "source": [
    "Implement Discriminator\n",
    "\n",
    "This is where it gets complicated coding wise, I'm not sure how much modifying we'll have to do here. Recommend reading the blog post to see what each line means."
   ]
  },
  {
   "cell_type": "code",
   "execution_count": 6,
   "id": "517bc779",
   "metadata": {},
   "outputs": [],
   "source": [
    "class Discriminator(nn.Module):\n",
    "    def __init__(self):\n",
    "        super().__init__()\n",
    "        self.model = nn.Sequential(\n",
    "            nn.Linear(2, 256),\n",
    "            nn.ReLU(),\n",
    "            nn.Dropout(0.3),\n",
    "            nn.Linear(256, 128),\n",
    "            nn.ReLU(),\n",
    "            nn.Dropout(0.3),\n",
    "            nn.Linear(128, 64),\n",
    "            nn.ReLU(),\n",
    "            nn.Dropout(0.3),\n",
    "            nn.Linear(64, 1),\n",
    "            nn.Sigmoid(),\n",
    "        )\n",
    "\n",
    "    def forward(self, x):\n",
    "        output = self.model(x)\n",
    "        return output\n",
    "    \n",
    "discriminator = Discriminator()"
   ]
  },
  {
   "cell_type": "markdown",
   "id": "3779baa8",
   "metadata": {},
   "source": [
    "Implement Generator"
   ]
  },
  {
   "cell_type": "code",
   "execution_count": 8,
   "id": "9a431800",
   "metadata": {},
   "outputs": [],
   "source": [
    "class Generator(nn.Module):\n",
    "    def __init__(self):\n",
    "        super().__init__()\n",
    "        self.model = nn.Sequential(\n",
    "            nn.Linear(2, 16),\n",
    "            nn.ReLU(),\n",
    "            nn.Linear(16, 32),\n",
    "            nn.ReLU(),\n",
    "            nn.Linear(32, 2),\n",
    "        )\n",
    "\n",
    "    def forward(self, x):\n",
    "        output = self.model(x)\n",
    "        return output\n",
    "\n",
    "generator = Generator()"
   ]
  },
  {
   "cell_type": "markdown",
   "id": "4d6d6f34",
   "metadata": {},
   "source": [
    "Setting some parameter here\n",
    "\n",
    "`lr` learning rate\n",
    "\n",
    "`num_epoch` number of repetitions of training\n",
    "\n",
    "`loss_function` specifying the loss function to train the models"
   ]
  },
  {
   "cell_type": "code",
   "execution_count": 9,
   "id": "3352e983",
   "metadata": {},
   "outputs": [],
   "source": [
    "lr = 0.001\n",
    "num_epochs = 300\n",
    "loss_function = nn.BCELoss()"
   ]
  },
  {
   "cell_type": "markdown",
   "id": "1b157d05",
   "metadata": {},
   "source": [
    "Using the `Adam` algorithm for training. Might have to read into other algorithms, not too clear what this is."
   ]
  },
  {
   "cell_type": "code",
   "execution_count": 10,
   "id": "819543c9",
   "metadata": {},
   "outputs": [],
   "source": [
    "optimizer_discriminator = torch.optim.Adam(discriminator.parameters(), lr=lr)\n",
    "optimizer_generator = torch.optim.Adam(generator.parameters(), lr=lr)"
   ]
  },
  {
   "cell_type": "markdown",
   "id": "c0ac6ff7",
   "metadata": {},
   "source": [
    "This is the training loop"
   ]
  },
  {
   "cell_type": "code",
   "execution_count": 11,
   "id": "320ad592",
   "metadata": {
    "scrolled": false
   },
   "outputs": [
    {
     "name": "stdout",
     "output_type": "stream",
     "text": [
      "Epoch: 0 Loss D.: 0.21308740973472595\n",
      "Epoch: 0 Loss G.: 1.7989580631256104\n",
      "Epoch: 10 Loss D.: 0.6099680662155151\n",
      "Epoch: 10 Loss G.: 0.9077383875846863\n",
      "Epoch: 20 Loss D.: 0.620063066482544\n",
      "Epoch: 20 Loss G.: 0.953209638595581\n",
      "Epoch: 30 Loss D.: 0.6286342144012451\n",
      "Epoch: 30 Loss G.: 0.9838343262672424\n",
      "Epoch: 40 Loss D.: 0.6698883175849915\n",
      "Epoch: 40 Loss G.: 0.7054421901702881\n",
      "Epoch: 50 Loss D.: 0.6472947001457214\n",
      "Epoch: 50 Loss G.: 0.7536922097206116\n",
      "Epoch: 60 Loss D.: 0.6895328164100647\n",
      "Epoch: 60 Loss G.: 0.7573033571243286\n",
      "Epoch: 70 Loss D.: 0.6916728615760803\n",
      "Epoch: 70 Loss G.: 0.6852325201034546\n",
      "Epoch: 80 Loss D.: 0.6521215438842773\n",
      "Epoch: 80 Loss G.: 0.7162517309188843\n",
      "Epoch: 90 Loss D.: 0.7148057222366333\n",
      "Epoch: 90 Loss G.: 0.6529541611671448\n",
      "Epoch: 100 Loss D.: 0.6874293088912964\n",
      "Epoch: 100 Loss G.: 0.6776154637336731\n",
      "Epoch: 110 Loss D.: 0.7406155467033386\n",
      "Epoch: 110 Loss G.: 0.7122131586074829\n",
      "Epoch: 120 Loss D.: 0.593325674533844\n",
      "Epoch: 120 Loss G.: 1.1042335033416748\n",
      "Epoch: 130 Loss D.: 0.6843036413192749\n",
      "Epoch: 130 Loss G.: 0.7448199391365051\n",
      "Epoch: 140 Loss D.: 0.6673251390457153\n",
      "Epoch: 140 Loss G.: 0.732637882232666\n",
      "Epoch: 150 Loss D.: 0.6369442343711853\n",
      "Epoch: 150 Loss G.: 0.873863697052002\n",
      "Epoch: 160 Loss D.: 0.627399206161499\n",
      "Epoch: 160 Loss G.: 0.9679601788520813\n",
      "Epoch: 170 Loss D.: 0.6626057624816895\n",
      "Epoch: 170 Loss G.: 0.7524673938751221\n",
      "Epoch: 180 Loss D.: 0.6623029708862305\n",
      "Epoch: 180 Loss G.: 0.8235093355178833\n",
      "Epoch: 190 Loss D.: 0.7008138298988342\n",
      "Epoch: 190 Loss G.: 0.7144757509231567\n",
      "Epoch: 200 Loss D.: 0.6579420566558838\n",
      "Epoch: 200 Loss G.: 0.8684435486793518\n",
      "Epoch: 210 Loss D.: 0.6914170980453491\n",
      "Epoch: 210 Loss G.: 0.770832896232605\n",
      "Epoch: 220 Loss D.: 0.745999813079834\n",
      "Epoch: 220 Loss G.: 0.675323486328125\n",
      "Epoch: 230 Loss D.: 0.6649925708770752\n",
      "Epoch: 230 Loss G.: 0.8716514110565186\n",
      "Epoch: 240 Loss D.: 0.6711603403091431\n",
      "Epoch: 240 Loss G.: 0.7642952799797058\n",
      "Epoch: 250 Loss D.: 0.6179213523864746\n",
      "Epoch: 250 Loss G.: 0.8132712841033936\n",
      "Epoch: 260 Loss D.: 0.6244049072265625\n",
      "Epoch: 260 Loss G.: 0.8076373934745789\n",
      "Epoch: 270 Loss D.: 0.5939496755599976\n",
      "Epoch: 270 Loss G.: 0.9070695042610168\n",
      "Epoch: 280 Loss D.: 0.5855857133865356\n",
      "Epoch: 280 Loss G.: 0.8503633737564087\n",
      "Epoch: 290 Loss D.: 0.5305500030517578\n",
      "Epoch: 290 Loss G.: 0.982641875743866\n"
     ]
    }
   ],
   "source": [
    "for epoch in range(num_epochs):\n",
    "    for n, (real_samples, _) in enumerate(train_loader):\n",
    "        # Data for training the discriminator\n",
    "        real_samples_labels = torch.ones((batch_size, 1))\n",
    "        latent_space_samples = torch.randn((batch_size, 2))\n",
    "        generated_samples = generator(latent_space_samples)\n",
    "        generated_samples_labels = torch.zeros((batch_size, 1))\n",
    "        all_samples = torch.cat((real_samples, generated_samples))\n",
    "        all_samples_labels = torch.cat(\n",
    "            (real_samples_labels, generated_samples_labels)\n",
    "        )\n",
    "\n",
    "        # Training the discriminator\n",
    "        discriminator.zero_grad()\n",
    "        output_discriminator = discriminator(all_samples)\n",
    "        loss_discriminator = loss_function(\n",
    "            output_discriminator, all_samples_labels)\n",
    "        loss_discriminator.backward()\n",
    "        optimizer_discriminator.step()\n",
    "\n",
    "        # Data for training the generator\n",
    "        latent_space_samples = torch.randn((batch_size, 2))\n",
    "\n",
    "        # Training the generator\n",
    "        generator.zero_grad()\n",
    "        generated_samples = generator(latent_space_samples)\n",
    "        output_discriminator_generated = discriminator(generated_samples)\n",
    "        loss_generator = loss_function(\n",
    "            output_discriminator_generated, real_samples_labels\n",
    "        )\n",
    "        loss_generator.backward()\n",
    "        optimizer_generator.step()\n",
    "\n",
    "        # Show loss\n",
    "        if epoch % 10 == 0 and n == batch_size - 1:\n",
    "            print(f\"Epoch: {epoch} Loss D.: {loss_discriminator}\")\n",
    "            print(f\"Epoch: {epoch} Loss G.: {loss_generator}\")"
   ]
  },
  {
   "cell_type": "markdown",
   "id": "8fee0dca",
   "metadata": {},
   "source": [
    "Using the generator to generate some sample points and plotting them"
   ]
  },
  {
   "cell_type": "code",
   "execution_count": 12,
   "id": "b37ff8da",
   "metadata": {},
   "outputs": [],
   "source": [
    "latent_space_samples = torch.randn(100, 2)\n",
    "generated_samples = generator(latent_space_samples)"
   ]
  },
  {
   "cell_type": "code",
   "execution_count": 13,
   "id": "1b7876fc",
   "metadata": {},
   "outputs": [
    {
     "data": {
      "text/plain": [
       "[<matplotlib.lines.Line2D at 0x7fe0e4759cc0>]"
      ]
     },
     "execution_count": 13,
     "metadata": {},
     "output_type": "execute_result"
    },
    {
     "data": {
      "image/png": "[encoded data removed]",
      "text/plain": [
       "<Figure size 640x480 with 1 Axes>"
      ]
     },
     "metadata": {},
     "output_type": "display_data"
    }
   ],
   "source": [
    "generated_samples = generated_samples.detach()\n",
    "plt.plot(generated_samples[:, 0], generated_samples[:, 1], \".\")"
   ]
  },
  {
   "cell_type": "markdown",
   "id": "db08c22e",
   "metadata": {},
   "source": [
    "Evolution of the generated data points\n",
    "![Alt Text](https://files.realpython.com/media/fig_gan_x1x2.69b1d6021da8.gif)"
   ]
  }
 ],
 "metadata": {
  "kernelspec": {
   "display_name": "Python 3 (ipykernel)",
   "language": "python",
   "name": "python3"
  },
  "language_info": {
   "codemirror_mode": {
    "name": "ipython",
    "version": 3
   },
   "file_extension": ".py",
   "mimetype": "text/x-python",
   "name": "python",
   "nbconvert_exporter": "python",
   "pygments_lexer": "ipython3",
   "version": "3.10.8"
  }
 },
 "nbformat": 4,
 "nbformat_minor": 5
}
